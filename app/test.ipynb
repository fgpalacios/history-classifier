{
 "cells": [
  {
   "cell_type": "code",
   "execution_count": 15,
   "metadata": {},
   "outputs": [
    {
     "name": "stdout",
     "output_type": "stream",
     "text": [
      "arte : 0.5965932639674785\n",
      "historia : 0.12818557838293604\n",
      "terapia : 0.11897625077364118\n",
      "naturaleza : 0.09256198015902133\n",
      "futbol : 0.063682926716923\n"
     ]
    }
   ],
   "source": [
    "import requests\n",
    "\n",
    "url = 'http://localhost:8882/predictor'\n",
    "headers = {\n",
    "    'Content-Type': 'application/json'\n",
    "    }\n",
    "payload = {\n",
    "    'input_text':'dibujo de caballos'\n",
    "    }\n",
    "\n",
    "response = requests.post(url,json=payload)\n",
    "\n",
    "result = response.json()\n",
    "\n",
    "for item  in response.json():\n",
    "    print(item, ':', result[item])\n",
    "\n",
    "\n"
   ]
  }
 ],
 "metadata": {
  "interpreter": {
   "hash": "2f814ad567dc9654b95c427730eed5c876ef23d86d50c6df86fea6c3593946d0"
  },
  "kernelspec": {
   "display_name": "Python 3.7.10 64-bit ('3.7-dev': pyenv)",
   "language": "python",
   "name": "python3"
  },
  "language_info": {
   "codemirror_mode": {
    "name": "ipython",
    "version": 3
   },
   "file_extension": ".py",
   "mimetype": "text/x-python",
   "name": "python",
   "nbconvert_exporter": "python",
   "pygments_lexer": "ipython3",
   "version": "3.7.10+"
  },
  "orig_nbformat": 4
 },
 "nbformat": 4,
 "nbformat_minor": 2
}
