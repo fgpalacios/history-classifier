{
 "cells": [
  {
   "cell_type": "code",
   "execution_count": 20,
   "metadata": {},
   "outputs": [],
   "source": [
    "# pip install neattext"
   ]
  },
  {
   "cell_type": "code",
   "execution_count": 21,
   "metadata": {},
   "outputs": [],
   "source": [
    "# Load EDA Pkgs\n",
    "import pandas as pd\n",
    "import seaborn as sns\n",
    "import neattext as nfx\n",
    "\n",
    "# Load ML Pkgs \n",
    "from sklearn.linear_model import LogisticRegression\n",
    "from sklearn.naive_bayes import MultinomialNB\n",
    "from sklearn.tree import DecisionTreeClassifier\n",
    "from sklearn.pipeline import Pipeline\n",
    "from sklearn.model_selection import train_test_split\n",
    "from sklearn.metrics import accuracy_score,classification_report,confusion_matrix,plot_confusion_matrix\n",
    "from sklearn.feature_extraction.text import CountVectorizer, TfidfVectorizer\n",
    "from sklearn.dummy import DummyClassifier\n",
    "import joblib\n"
   ]
  },
  {
   "cell_type": "code",
   "execution_count": 22,
   "metadata": {},
   "outputs": [
    {
     "data": {
      "text/html": [
       "<div>\n",
       "<style scoped>\n",
       "    .dataframe tbody tr th:only-of-type {\n",
       "        vertical-align: middle;\n",
       "    }\n",
       "\n",
       "    .dataframe tbody tr th {\n",
       "        vertical-align: top;\n",
       "    }\n",
       "\n",
       "    .dataframe thead th {\n",
       "        text-align: right;\n",
       "    }\n",
       "</style>\n",
       "<table border=\"1\" class=\"dataframe\">\n",
       "  <thead>\n",
       "    <tr style=\"text-align: right;\">\n",
       "      <th></th>\n",
       "      <th>name</th>\n",
       "      <th>tag</th>\n",
       "    </tr>\n",
       "  </thead>\n",
       "  <tbody>\n",
       "    <tr>\n",
       "      <th>0</th>\n",
       "      <td>2.1. Jose Lopez - Infancia</td>\n",
       "      <td>#2. mi infancia</td>\n",
       "    </tr>\n",
       "    <tr>\n",
       "      <th>1</th>\n",
       "      <td>2.7. Barrio de mi infancia</td>\n",
       "      <td>#2. mi infancia</td>\n",
       "    </tr>\n",
       "    <tr>\n",
       "      <th>2</th>\n",
       "      <td>2.2. Abuela Ernestina Pujol</td>\n",
       "      <td>#2. mi infancia</td>\n",
       "    </tr>\n",
       "    <tr>\n",
       "      <th>3</th>\n",
       "      <td>2.4. Juguetes preferidos auto</td>\n",
       "      <td>#2. mi infancia</td>\n",
       "    </tr>\n",
       "    <tr>\n",
       "      <th>4</th>\n",
       "      <td>2.6. Primera Comunión</td>\n",
       "      <td>#2. mi infancia</td>\n",
       "    </tr>\n",
       "  </tbody>\n",
       "</table>\n",
       "</div>"
      ],
      "text/plain": [
       "                            name              tag\n",
       "0     2.1. Jose Lopez - Infancia  #2. mi infancia\n",
       "1     2.7. Barrio de mi infancia  #2. mi infancia\n",
       "2    2.2. Abuela Ernestina Pujol  #2. mi infancia\n",
       "3  2.4. Juguetes preferidos auto  #2. mi infancia\n",
       "4          2.6. Primera Comunión  #2. mi infancia"
      ]
     },
     "execution_count": 22,
     "metadata": {},
     "output_type": "execute_result"
    }
   ],
   "source": [
    "story = pd.read_csv('./data/Historia de vida de Jose - Historia.csv')\n",
    "story.head()"
   ]
  },
  {
   "cell_type": "code",
   "execution_count": 23,
   "metadata": {},
   "outputs": [],
   "source": [
    "# Clean the text\n",
    "story['name'] = story['name'].apply(lambda x: nfx.remove_stopwords(str(x).lower()))"
   ]
  },
  {
   "cell_type": "code",
   "execution_count": 24,
   "metadata": {},
   "outputs": [
    {
     "data": {
      "text/plain": [
       "<AxesSubplot:xlabel='tag'>"
      ]
     },
     "execution_count": 24,
     "metadata": {},
     "output_type": "execute_result"
    },
    {
     "data": {
      "image/png": "[encoded data removed]",
      "text/plain": [
       "<Figure size 432x288 with 1 Axes>"
      ]
     },
     "metadata": {
      "needs_background": "light"
     },
     "output_type": "display_data"
    }
   ],
   "source": [
    "story.groupby('tag').count().plot.bar()"
   ]
  },
  {
   "cell_type": "code",
   "execution_count": 25,
   "metadata": {},
   "outputs": [
    {
     "data": {
      "text/plain": [
       "#4. mi madurez                    11\n",
       "#2. mi infancia                   10\n",
       "#3. mi adolescencia y juventud     6\n",
       "#1. quien soy yo?                  1\n",
       "Name: tag, dtype: int64"
      ]
     },
     "execution_count": 25,
     "metadata": {},
     "output_type": "execute_result"
    }
   ],
   "source": [
    "story['tag'].value_counts()"
   ]
  },
  {
   "cell_type": "code",
   "execution_count": 26,
   "metadata": {},
   "outputs": [
    {
     "data": {
      "text/plain": [
       "<AxesSubplot:xlabel='tag', ylabel='count'>"
      ]
     },
     "execution_count": 26,
     "metadata": {},
     "output_type": "execute_result"
    },
    {
     "data": {
      "image/png": "[encoded data removed]",
      "text/plain": [
       "<Figure size 432x288 with 1 Axes>"
      ]
     },
     "metadata": {
      "needs_background": "light"
     },
     "output_type": "display_data"
    }
   ],
   "source": [
    "sns.countplot(x='tag', data=story, orient='h', palette=\"Set2\")"
   ]
  },
  {
   "cell_type": "markdown",
   "metadata": {},
   "source": [
    "### Building our model using Pipeline Approach"
   ]
  },
  {
   "cell_type": "code",
   "execution_count": 27,
   "metadata": {},
   "outputs": [],
   "source": [
    "# Make a Pipeline\n",
    "pipe_base = Pipeline(steps=[('cv',CountVectorizer()),('dummy',DummyClassifier())])\n",
    "pipe_nb = Pipeline(steps=[('cv',CountVectorizer()),('nb',MultinomialNB())])\n",
    "pipe_lr = Pipeline(steps=[('cv',CountVectorizer()),('lr',LogisticRegression())])\n",
    "pipe_dt = Pipeline(steps=[('cv',CountVectorizer()),('nb',DecisionTreeClassifier())])\n"
   ]
  },
  {
   "cell_type": "markdown",
   "metadata": {},
   "source": [
    "# Base Model: accuracy"
   ]
  },
  {
   "cell_type": "code",
   "execution_count": 28,
   "metadata": {},
   "outputs": [],
   "source": [
    "# Features & labels\n",
    "Xfeatures = story['name']\n",
    "ylabels = story['tag'] "
   ]
  },
  {
   "cell_type": "code",
   "execution_count": 29,
   "metadata": {},
   "outputs": [],
   "source": [
    "# Split Dataset\n",
    "x_train,x_test,y_train,y_test = train_test_split(Xfeatures,ylabels,test_size=0.3,random_state= 42)"
   ]
  },
  {
   "cell_type": "code",
   "execution_count": 30,
   "metadata": {},
   "outputs": [
    {
     "data": {
      "text/plain": [
       "Pipeline(steps=[('cv', CountVectorizer()), ('dummy', DummyClassifier())])"
      ]
     },
     "execution_count": 30,
     "metadata": {},
     "output_type": "execute_result"
    }
   ],
   "source": [
    "# Base Model: accuracy\n",
    "pipe_base.fit(x_train,y_train)"
   ]
  },
  {
   "cell_type": "code",
   "execution_count": 31,
   "metadata": {},
   "outputs": [
    {
     "data": {
      "text/plain": [
       "0.3333333333333333"
      ]
     },
     "execution_count": 31,
     "metadata": {},
     "output_type": "execute_result"
    }
   ],
   "source": [
    "pipe_base.score(x_test,y_test) "
   ]
  },
  {
   "cell_type": "code",
   "execution_count": 32,
   "metadata": {},
   "outputs": [
    {
     "data": {
      "text/plain": [
       "Pipeline(steps=[('cv', CountVectorizer()), ('lr', LogisticRegression())])"
      ]
     },
     "execution_count": 32,
     "metadata": {},
     "output_type": "execute_result"
    }
   ],
   "source": [
    "# Build our actual Models\n",
    "pipe_nb.fit(x_train,y_train)\n",
    "pipe_dt.fit(x_train,y_train)\n",
    "pipe_lr.fit(x_train,y_train)"
   ]
  },
  {
   "cell_type": "code",
   "execution_count": 33,
   "metadata": {},
   "outputs": [
    {
     "data": {
      "text/plain": [
       "0.4444444444444444"
      ]
     },
     "execution_count": 33,
     "metadata": {},
     "output_type": "execute_result"
    }
   ],
   "source": [
    "pipe_nb.score(x_test,y_test)"
   ]
  },
  {
   "cell_type": "code",
   "execution_count": 34,
   "metadata": {},
   "outputs": [
    {
     "data": {
      "text/plain": [
       "0.4444444444444444"
      ]
     },
     "execution_count": 34,
     "metadata": {},
     "output_type": "execute_result"
    }
   ],
   "source": [
    "pipe_dt.score(x_test,y_test)"
   ]
  },
  {
   "cell_type": "code",
   "execution_count": 35,
   "metadata": {},
   "outputs": [
    {
     "data": {
      "text/plain": [
       "0.4444444444444444"
      ]
     },
     "execution_count": 35,
     "metadata": {},
     "output_type": "execute_result"
    }
   ],
   "source": [
    "pipe_lr.score(x_test,y_test)"
   ]
  },
  {
   "cell_type": "markdown",
   "metadata": {},
   "source": [
    "## Evaluate"
   ]
  },
  {
   "cell_type": "code",
   "execution_count": 36,
   "metadata": {},
   "outputs": [
    {
     "data": {
      "text/plain": [
       "array(['#2. mi infancia', '#2. mi infancia', '#2. mi infancia',\n",
       "       '#2. mi infancia', '#2. mi infancia', '#2. mi infancia',\n",
       "       '#2. mi infancia', '#2. mi infancia', '#2. mi infancia'],\n",
       "      dtype='<U15')"
      ]
     },
     "execution_count": 36,
     "metadata": {},
     "output_type": "execute_result"
    }
   ],
   "source": [
    "y_pred_base = pipe_base.predict(x_test)\n",
    "y_pred_base"
   ]
  },
  {
   "cell_type": "code",
   "execution_count": 37,
   "metadata": {},
   "outputs": [
    {
     "name": "stdout",
     "output_type": "stream",
     "text": [
      "                                precision    recall  f1-score   support\n",
      "\n",
      "               #2. mi infancia       0.33      1.00      0.50         3\n",
      "#3. mi adolescencia y juventud       0.00      0.00      0.00         2\n",
      "                #4. mi madurez       0.00      0.00      0.00         4\n",
      "\n",
      "                      accuracy                           0.33         9\n",
      "                     macro avg       0.11      0.33      0.17         9\n",
      "                  weighted avg       0.11      0.33      0.17         9\n",
      "\n"
     ]
    }
   ],
   "source": [
    "# Report \n",
    "print(classification_report(y_test,y_pred_base,zero_division=0))"
   ]
  },
  {
   "cell_type": "code",
   "execution_count": 38,
   "metadata": {},
   "outputs": [
    {
     "data": {
      "text/plain": [
       "array(['#2. mi infancia', '#3. mi adolescencia y juventud',\n",
       "       '#2. mi infancia', '#3. mi adolescencia y juventud',\n",
       "       '#4. mi madurez', '#4. mi madurez', '#2. mi infancia',\n",
       "       '#4. mi madurez', '#3. mi adolescencia y juventud'], dtype='<U30')"
      ]
     },
     "execution_count": 38,
     "metadata": {},
     "output_type": "execute_result"
    }
   ],
   "source": [
    "y_pred_nb = pipe_nb.predict(x_test)\n",
    "y_pred_nb"
   ]
  },
  {
   "cell_type": "code",
   "execution_count": 39,
   "metadata": {},
   "outputs": [
    {
     "name": "stdout",
     "output_type": "stream",
     "text": [
      "                                precision    recall  f1-score   support\n",
      "\n",
      "               #2. mi infancia       0.67      0.67      0.67         3\n",
      "#3. mi adolescencia y juventud       0.33      0.50      0.40         2\n",
      "                #4. mi madurez       0.33      0.25      0.29         4\n",
      "\n",
      "                      accuracy                           0.44         9\n",
      "                     macro avg       0.44      0.47      0.45         9\n",
      "                  weighted avg       0.44      0.44      0.44         9\n",
      "\n"
     ]
    }
   ],
   "source": [
    "print (classification_report(y_test,y_pred_nb,zero_division=0))"
   ]
  },
  {
   "cell_type": "code",
   "execution_count": 40,
   "metadata": {},
   "outputs": [
    {
     "data": {
      "text/plain": [
       "array(['#2. mi infancia', '#2. mi infancia', '#2. mi infancia',\n",
       "       '#2. mi infancia', '#2. mi infancia', '#4. mi madurez',\n",
       "       '#2. mi infancia', '#4. mi madurez', '#4. mi madurez'],\n",
       "      dtype=object)"
      ]
     },
     "execution_count": 40,
     "metadata": {},
     "output_type": "execute_result"
    }
   ],
   "source": [
    "y_pred_lr = pipe_lr.predict(x_test)\n",
    "y_pred_lr"
   ]
  },
  {
   "cell_type": "code",
   "execution_count": 41,
   "metadata": {},
   "outputs": [
    {
     "name": "stdout",
     "output_type": "stream",
     "text": [
      "                                precision    recall  f1-score   support\n",
      "\n",
      "               #2. mi infancia       0.50      1.00      0.67         3\n",
      "#3. mi adolescencia y juventud       0.00      0.00      0.00         2\n",
      "                #4. mi madurez       0.33      0.25      0.29         4\n",
      "\n",
      "                      accuracy                           0.44         9\n",
      "                     macro avg       0.28      0.42      0.32         9\n",
      "                  weighted avg       0.31      0.44      0.35         9\n",
      "\n"
     ]
    }
   ],
   "source": [
    "print(classification_report(y_test,y_pred_lr,zero_division=0))"
   ]
  },
  {
   "cell_type": "code",
   "execution_count": 42,
   "metadata": {},
   "outputs": [
    {
     "data": {
      "text/plain": [
       "array(['#2. mi infancia', '#3. mi adolescencia y juventud',\n",
       "       '#2. mi infancia', '#3. mi adolescencia y juventud',\n",
       "       '#4. mi madurez', '#4. mi madurez', '#2. mi infancia',\n",
       "       '#4. mi madurez', '#3. mi adolescencia y juventud'], dtype=object)"
      ]
     },
     "execution_count": 42,
     "metadata": {},
     "output_type": "execute_result"
    }
   ],
   "source": [
    "y_pred_dt = pipe_dt.predict(x_test)\n",
    "y_pred_dt"
   ]
  },
  {
   "cell_type": "code",
   "execution_count": 43,
   "metadata": {},
   "outputs": [
    {
     "name": "stdout",
     "output_type": "stream",
     "text": [
      "                                precision    recall  f1-score   support\n",
      "\n",
      "               #2. mi infancia       0.67      0.67      0.67         3\n",
      "#3. mi adolescencia y juventud       0.33      0.50      0.40         2\n",
      "                #4. mi madurez       0.33      0.25      0.29         4\n",
      "\n",
      "                      accuracy                           0.44         9\n",
      "                     macro avg       0.44      0.47      0.45         9\n",
      "                  weighted avg       0.44      0.44      0.44         9\n",
      "\n"
     ]
    }
   ],
   "source": [
    "print(classification_report(y_test,y_pred_dt,zero_division=0))"
   ]
  },
  {
   "cell_type": "code",
   "execution_count": 44,
   "metadata": {},
   "outputs": [
    {
     "data": {
      "text/plain": [
       "Pipeline(steps=[('cv', CountVectorizer()), ('lr', LogisticRegression())])"
      ]
     },
     "execution_count": 44,
     "metadata": {},
     "output_type": "execute_result"
    }
   ],
   "source": [
    "# We use all dataset, because it is little data\n",
    "\n",
    "# Load dataset\n",
    "story = pd.read_csv('./data/Historia de vida de Jose - Historia.csv')\n",
    "# Clean the text\n",
    "story['name'] = story['name'].apply(lambda x: nfx.remove_stopwords(str(x).lower()))\n",
    "# Features & labels\n",
    "Xfeatures = story['name']\n",
    "ylabels = story['tag'] \n",
    "\n",
    "# Train the model\n",
    "pipe_lr.fit(Xfeatures,ylabels)"
   ]
  },
  {
   "cell_type": "code",
   "execution_count": 51,
   "metadata": {},
   "outputs": [
    {
     "name": "stdout",
     "output_type": "stream",
     "text": [
      "['#3. mi adolescencia y juventud']\n",
      "['#1. quien soy yo?' '#2. mi infancia' '#3. mi adolescencia y juventud'\n",
      " '#4. mi madurez']\n",
      "[[0. 0. 1. 0.]]\n"
     ]
    }
   ],
   "source": [
    "ex = ['historia de amigos']\n",
    "print (pipe_dt.predict(ex))\n",
    "print (pipe_dt.classes_)\n",
    "print (pipe_dt.predict_proba(ex))"
   ]
  },
  {
   "cell_type": "code",
   "execution_count": 52,
   "metadata": {},
   "outputs": [
    {
     "data": {
      "text/plain": [
       "'{\"#4. mi madurez\": 0.44971289438718315, \"#2. mi infancia\": 0.28996879271499304, \"#3. mi adolescencia y juventud\": 0.23245110713901024, \"#1. quien soy yo?\": 0.027867205758813574}'"
      ]
     },
     "execution_count": 52,
     "metadata": {},
     "output_type": "execute_result"
    }
   ],
   "source": [
    "import json\n",
    "# json.dumps(pipe_lr.classes_.tolist())\n",
    "\n",
    "pred = {}\n",
    "itemProb = 0\n",
    "auxPred = [pipe_lr.classes_.tolist(),pipe_lr.predict_proba(ex)[0].tolist()]\n",
    "for itemPredLabel  in auxPred[0]:\n",
    "    pred[itemPredLabel]= auxPred[1][itemProb]\n",
    "    itemProb += 1\n",
    "\n",
    "\n",
    "json.dumps(dict(sorted(pred.items(), key=lambda item: item[1],reverse=True)))\n",
    "\n",
    "\n"
   ]
  },
  {
   "cell_type": "code",
   "execution_count": 53,
   "metadata": {},
   "outputs": [
    {
     "data": {
      "text/plain": [
       "{'#4. mi madurez': 0.44971289438718315,\n",
       " '#2. mi infancia': 0.28996879271499304,\n",
       " '#3. mi adolescencia y juventud': 0.23245110713901024,\n",
       " '#1. quien soy yo?': 0.027867205758813574}"
      ]
     },
     "execution_count": 53,
     "metadata": {},
     "output_type": "execute_result"
    }
   ],
   "source": [
    "dict(sorted(pred.items(), key=lambda item: item[1],reverse=True))"
   ]
  },
  {
   "cell_type": "code",
   "execution_count": 54,
   "metadata": {},
   "outputs": [
    {
     "data": {
      "text/plain": [
       "['../model/classifications_v1.sav']"
      ]
     },
     "execution_count": 54,
     "metadata": {},
     "output_type": "execute_result"
    }
   ],
   "source": [
    "#save model\n",
    "filename='../model/classifications_v1.sav'\n",
    "joblib.dump(pipe_lr, filename)\n"
   ]
  },
  {
   "cell_type": "code",
   "execution_count": 55,
   "metadata": {},
   "outputs": [
    {
     "name": "stdout",
     "output_type": "stream",
     "text": [
      "0.9473684210526315\n"
     ]
    }
   ],
   "source": [
    "# load the model from disk\n",
    "filename='../model/classifications_v1.sav'\n",
    "loaded_model = joblib.load(filename)\n",
    "result = loaded_model.score(x_train,y_train)\n",
    "print(result)"
   ]
  },
  {
   "cell_type": "code",
   "execution_count": 56,
   "metadata": {},
   "outputs": [
    {
     "name": "stdout",
     "output_type": "stream",
     "text": [
      "['#4. mi madurez']\n",
      "['#1. quien soy yo?' '#2. mi infancia' '#3. mi adolescencia y juventud'\n",
      " '#4. mi madurez']\n",
      "[[0.02922931 0.34513854 0.25221356 0.37341858]]\n"
     ]
    }
   ],
   "source": [
    "ex = 'dibujo de un leon'\n",
    "print(loaded_model.predict([ex]))\n",
    "print (loaded_model.classes_)\n",
    "print (loaded_model.predict_proba([ex]))"
   ]
  }
 ],
 "metadata": {
  "interpreter": {
   "hash": "ac5bb2f80a553b378efbc22001be3f6e371f0a9db0ce3215f17a57fcead9281d"
  },
  "kernelspec": {
   "display_name": "Python 3.7.10 64-bit ('3.7-dev')",
   "name": "python3"
  },
  "language_info": {
   "codemirror_mode": {
    "name": "ipython",
    "version": 3
   },
   "file_extension": ".py",
   "mimetype": "text/x-python",
   "name": "python",
   "nbconvert_exporter": "python",
   "pygments_lexer": "ipython3",
   "version": "3.7.10+"
  },
  "orig_nbformat": 4
 },
 "nbformat": 4,
 "nbformat_minor": 2
}
